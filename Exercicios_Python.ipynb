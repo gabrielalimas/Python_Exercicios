{
  "nbformat": 4,
  "nbformat_minor": 0,
  "metadata": {
    "colab": {
      "provenance": [],
      "authorship_tag": "ABX9TyNXV+KG/ytzT1lRbpH5Z+ds",
      "include_colab_link": true
    },
    "kernelspec": {
      "name": "python3",
      "display_name": "Python 3"
    },
    "language_info": {
      "name": "python"
    }
  },
  "cells": [
    {
      "cell_type": "markdown",
      "metadata": {
        "id": "view-in-github",
        "colab_type": "text"
      },
      "source": [
        "<a href=\"https://colab.research.google.com/github/gabrielalimas/Python_Exercicios/blob/main/Exercicios_Python.ipynb\" target=\"_parent\"><img src=\"https://colab.research.google.com/assets/colab-badge.svg\" alt=\"Open In Colab\"/></a>"
      ]
    },
    {
      "cell_type": "markdown",
      "source": [
        "#**EXERCÍCIOS DE ESTRUTURA SEQUENCIAL**"
      ],
      "metadata": {
        "id": "aIcNSmflC4ek"
      }
    },
    {
      "cell_type": "markdown",
      "source": [
        "Faça um Programa que mostre a mensagem \"Alo mundo\" na tela."
      ],
      "metadata": {
        "id": "FA3lZHwODL_P"
      }
    },
    {
      "cell_type": "code",
      "source": [
        "print('Alo mundo!')"
      ],
      "metadata": {
        "colab": {
          "base_uri": "https://localhost:8080/"
        },
        "id": "PApLydOXDLcn",
        "outputId": "e9087ba7-6d9d-47ce-eb51-dabc8ace9f61"
      },
      "execution_count": null,
      "outputs": [
        {
          "output_type": "stream",
          "name": "stdout",
          "text": [
            "Alo mundo!\n"
          ]
        }
      ]
    },
    {
      "cell_type": "markdown",
      "source": [
        "Faça um Programa que peça um número e então mostre a mensagem O número informado foi [número]."
      ],
      "metadata": {
        "id": "hSz7iFZaDu2e"
      }
    },
    {
      "cell_type": "code",
      "source": [
        "numero = int(input('Digite um número: '))\n",
        "print(f'O número informado foi {numero}.')"
      ],
      "metadata": {
        "colab": {
          "base_uri": "https://localhost:8080/"
        },
        "id": "yLLofPhtD9EW",
        "outputId": "2509ee84-f84d-41e4-9131-0d5c6cf928fc"
      },
      "execution_count": null,
      "outputs": [
        {
          "output_type": "stream",
          "name": "stdout",
          "text": [
            "Digite um número: 30\n",
            "O número informado foi 30.\n"
          ]
        }
      ]
    },
    {
      "cell_type": "markdown",
      "source": [
        "Faça um Programa que peça dois números e imprima a soma."
      ],
      "metadata": {
        "id": "-1OmLlrUGIKL"
      }
    },
    {
      "cell_type": "code",
      "source": [
        "numero1 = int(input('Digite um número: '))\n",
        "numero2 = int(input('Digite outro número: '))\n",
        "soma = (numero1 + numero2)\n",
        "print(f'A soma dos números informados é: {soma}.')"
      ],
      "metadata": {
        "colab": {
          "base_uri": "https://localhost:8080/"
        },
        "id": "ka7QC-sxGI-X",
        "outputId": "157f3d62-2f0a-49da-843d-125b066c916e"
      },
      "execution_count": null,
      "outputs": [
        {
          "output_type": "stream",
          "name": "stdout",
          "text": [
            "Digite um número: 10\n",
            "Digite outro número: 10\n",
            "A soma dos números informados é: 20.\n"
          ]
        }
      ]
    },
    {
      "cell_type": "markdown",
      "source": [
        "Faça um Programa que converta metros para centímetros."
      ],
      "metadata": {
        "id": "bdTshFybFYwr"
      }
    },
    {
      "cell_type": "code",
      "source": [
        "metragem = int(input('Digite a metragem que quer converter para centimetros: '))\n",
        "conversao_centimetros = (metragem * 100)\n",
        "print(f'A conversão ficou de metros para cm ficou em {conversao_centimetros} cm.')"
      ],
      "metadata": {
        "colab": {
          "base_uri": "https://localhost:8080/"
        },
        "id": "8IrfMKqZFqjr",
        "outputId": "e55a29b4-d899-4159-e308-99beb934243a"
      },
      "execution_count": 11,
      "outputs": [
        {
          "output_type": "stream",
          "name": "stdout",
          "text": [
            "Digite a metragem que quer converter para centimetros: 6\n",
            "A conversão ficou de metros para cm ficou em 600 cm.\n"
          ]
        }
      ]
    },
    {
      "cell_type": "markdown",
      "source": [
        "# **EXERCÍCIOS DE ESTRUTURA DE DECISÃO**"
      ],
      "metadata": {
        "id": "S_sRK2yqIOqB"
      }
    },
    {
      "cell_type": "markdown",
      "source": [
        "Faça um Programa que peça dois números e imprima o maior deles."
      ],
      "metadata": {
        "id": "QcQMl6A2IVM9"
      }
    },
    {
      "cell_type": "code",
      "source": [
        "numero1 = int(input('Digite um número: '))\n",
        "numero2 = int(input('Digite outro número: '))\n",
        "if numero1>numero2:\n",
        "  print('O primeiro número digitado é o maior.')\n",
        "else:\n",
        "  print('O segundo número digitado é o maior.')"
      ],
      "metadata": {
        "colab": {
          "base_uri": "https://localhost:8080/"
        },
        "id": "GLrEXlYWIUwl",
        "outputId": "47eaafe0-63aa-4b98-b9de-bbb7c2e58ff5"
      },
      "execution_count": null,
      "outputs": [
        {
          "output_type": "stream",
          "name": "stdout",
          "text": [
            "Digite um número: 30\n",
            "Digite outro número: 20\n",
            "O primeiro número digitado é o maior.\n"
          ]
        }
      ]
    },
    {
      "cell_type": "markdown",
      "source": [
        "Faça um Programa que peça um valor e mostre na tela se o valor é positivo ou negativo."
      ],
      "metadata": {
        "id": "484mCYaRJgIb"
      }
    },
    {
      "cell_type": "code",
      "source": [
        "numero1 = int(input('Digite um número: '))\n",
        "if numero1>0:\n",
        "  print('O número digitado é positivo.')\n",
        "else:\n",
        "  print('O número digitado é negativo.')"
      ],
      "metadata": {
        "colab": {
          "base_uri": "https://localhost:8080/"
        },
        "id": "YI5dhB8dJg4o",
        "outputId": "9c793f86-f964-4d7c-f6a2-1fa0d0fc10c2"
      },
      "execution_count": null,
      "outputs": [
        {
          "output_type": "stream",
          "name": "stdout",
          "text": [
            "Digite um número: -1\n",
            "O número digitado é negativo.\n"
          ]
        }
      ]
    },
    {
      "cell_type": "markdown",
      "source": [
        "Faça um Programa que verifique se uma letra digitada é \"F\" ou \"M\". Conforme a letra escrever: F - Feminino, M - Masculino, Sexo Inválido."
      ],
      "metadata": {
        "id": "_2S-Fh5DQS3x"
      }
    },
    {
      "cell_type": "code",
      "source": [
        "sexo = input('Digite a letra correspondente ao seu sexo (F ou M): ')\n",
        "if sexo == 'F':\n",
        "  print('Sexo Feminino')\n",
        "elif sexo == 'M':\n",
        "  print('Sexo Masculino')\n",
        "else:\n",
        "  print('Sexo Inválido')"
      ],
      "metadata": {
        "colab": {
          "base_uri": "https://localhost:8080/"
        },
        "id": "9oLCxaDtQdXk",
        "outputId": "cc03ffbb-a350-49fd-d11f-c1ab1ad06227"
      },
      "execution_count": 16,
      "outputs": [
        {
          "output_type": "stream",
          "name": "stdout",
          "text": [
            "Digite a letra correspondente ao seu sexo (F ou M): F\n",
            "Sexo Feminino\n"
          ]
        }
      ]
    },
    {
      "cell_type": "markdown",
      "source": [
        "# **EXERCÍCIOS DE ESTRUTURA DE REPETIÇÃO**"
      ],
      "metadata": {
        "id": "_b0PrMZVLmcv"
      }
    },
    {
      "cell_type": "markdown",
      "source": [
        "Faça um programa que peça uma nota, entre zero e dez. Mostre uma mensagem caso o valor seja inválido e continue pedindo até que o usuário informe um valor válido."
      ],
      "metadata": {
        "id": "s_-UXALeLtCh"
      }
    },
    {
      "cell_type": "code",
      "source": [
        "pedir_nota = float(input('Digite uma nota: '))\n",
        "while (pedir_nota>10) or (pedir_nota<0):\n",
        "  pedir_nota = float(input('Digite uma nota: '))\n"
      ],
      "metadata": {
        "colab": {
          "base_uri": "https://localhost:8080/"
        },
        "id": "zh89jgQDDAxA",
        "outputId": "9dacecaf-3ded-46d8-d654-7c86a456b105"
      },
      "execution_count": null,
      "outputs": [
        {
          "name": "stdout",
          "output_type": "stream",
          "text": [
            "Digite uma nota: 11\n",
            "Digite uma nota: 5\n"
          ]
        }
      ]
    },
    {
      "cell_type": "markdown",
      "source": [
        "Faça um programa que leia um nome de usuário e a sua senha e não aceite a senha igual ao nome do usuário, mostrando uma mensagem de erro e voltando a pedir as informações."
      ],
      "metadata": {
        "id": "wIamCgqo-18C"
      }
    },
    {
      "cell_type": "code",
      "source": [
        "from getpass import getpass #Biblioteca Getpass para ocultar senhas no momento que o usuário a digita.\n",
        "\n",
        "nome_usuario = input('Digite seu nome de usuário: ')\n",
        "senha = getpass('Digite sua senha: ')\n",
        "while senha == nome_usuario:\n",
        "  nome_usuario = input('Digite seu nome de usuário: ')\n",
        "  senha = getpass('Digite sua senha: ')"
      ],
      "metadata": {
        "colab": {
          "base_uri": "https://localhost:8080/"
        },
        "id": "7WhrL1IF-5PE",
        "outputId": "33d2cb4b-ab34-4b3a-e5c5-b48d89a282c9"
      },
      "execution_count": null,
      "outputs": [
        {
          "name": "stdout",
          "output_type": "stream",
          "text": [
            "Digite seu nome de usuário: Gabriela\n",
            "Digite sua senha: ··········\n",
            "Digite seu nome de usuário: Gabriela\n",
            "Digite sua senha: ··········\n",
            "Digite seu nome de usuário: Gabriela\n",
            "Digite sua senha: ··········\n"
          ]
        }
      ]
    },
    {
      "cell_type": "markdown",
      "source": [
        "Faça um programa que leia e valide as seguintes informações:\n",
        "\n",
        "*   Nome: maior que 3 caracteres;\n",
        "*   Idade: entre 0 e 150;\n",
        "*   Salário: maior que zero;\n",
        "*   Sexo: 'f' ou 'm';\n",
        "*   Estado Civil: 's', 'c', 'v', 'd'."
      ],
      "metadata": {
        "id": "PJoR6yNxFhlr"
      }
    },
    {
      "cell_type": "code",
      "source": [
        "nome = (input('Digite seu nome: '))\n",
        "while len(nome)<3: #O nome é uma string, logo, vai dar erro se colocarmos o '<3' dentro do parênteses. Por isso, é colocado separado.\n",
        "  nome = input('Digite seu nome: ')\n",
        "idade = int(input('Digite sua idade: '))\n",
        "while (idade>150) or (idade<0):\n",
        "  idade = int(input('Digite sua idade: '))\n",
        "salario = float(input('Digite seu salário: '))\n",
        "while salario<0:\n",
        "  salario = float(input('Digite seu salário: '))\n",
        "sexo = input('Digite seu sexo: ')\n",
        "while (sexo!='F') and (sexo!='M'):\n",
        "  sexo = input('Digite seu sexo: ')\n",
        "estado_civil = input('Digite seu estado civil: ')\n",
        "while (estado_civil!='S') and (estado_civil!='C') and (estado_civil!='V') and (estado_civil!='D'):\n",
        "  estado_civil = input('Digite seu estado civil: ')\n"
      ],
      "metadata": {
        "colab": {
          "base_uri": "https://localhost:8080/"
        },
        "id": "KrUpwHXDJEUz",
        "outputId": "7f94cfb6-8bdd-4367-e65a-7275ff7056cc"
      },
      "execution_count": null,
      "outputs": [
        {
          "name": "stdout",
          "output_type": "stream",
          "text": [
            "Digite seu nome: Gabi\n",
            "Digite sua idade: 30\n",
            "Digite seu salário: 3000.00\n",
            "Digite seu sexo: F\n",
            "Digite seu estado civil: s\n",
            "Digite seu estado civil: S\n"
          ]
        }
      ]
    },
    {
      "cell_type": "markdown",
      "source": [
        "# **EXERCÍCIOS DE LISTAS**\n"
      ],
      "metadata": {
        "id": "eujOrMFwB97Q"
      }
    },
    {
      "cell_type": "markdown",
      "source": [
        "Faça um Programa que leia 4 notas, mostre as notas e a média na tela."
      ],
      "metadata": {
        "id": "wOnv9fAo0GQq"
      }
    },
    {
      "cell_type": "code",
      "execution_count": null,
      "metadata": {
        "colab": {
          "base_uri": "https://localhost:8080/"
        },
        "id": "li9ICjgi0Ezn",
        "outputId": "e9b643c8-bdd1-4bd6-c0e4-6e72cc94a4ae"
      },
      "outputs": [
        {
          "output_type": "stream",
          "name": "stdout",
          "text": [
            "Digite a nota 1: 5\n",
            "Digite a nota 2: 6\n",
            "Digite a nota 3: 7\n",
            "Digite a nota 4: 9\n",
            "27\n",
            "6.75\n"
          ]
        }
      ],
      "source": [
        "#JEITO DE FAZER 1\n",
        "nota1 = int(input('Digite a nota 1: '))\n",
        "nota2 = int(input('Digite a nota 2: '))\n",
        "nota3 = int(input('Digite a nota 3: '))\n",
        "nota4 = int(input('Digite a nota 4: '))\n",
        "\n",
        "soma_notas = (nota1 + nota2 + nota3 + nota4)\n",
        "print(soma_notas)\n",
        "notas = [nota1,nota2,nota3,nota4]\n",
        "media = soma_notas / len(notas)\n",
        "print(media)"
      ]
    },
    {
      "cell_type": "code",
      "source": [
        "#JEITO DE FAZER 2\n",
        "notas = [5.0,6.0,7.0,9.0]\n",
        "print(f'As 4 notas são: {notas}')\n",
        "media = sum(notas) / len(notas)\n",
        "print(f'A média é: {media}')"
      ],
      "metadata": {
        "colab": {
          "base_uri": "https://localhost:8080/"
        },
        "id": "Uj1fQvil7v1l",
        "outputId": "2660787d-ffa9-4a72-e064-ac79f147d5a0"
      },
      "execution_count": null,
      "outputs": [
        {
          "output_type": "stream",
          "name": "stdout",
          "text": [
            "As 4 notas são: [5.0, 6.0, 7.0, 9.0]\n",
            "A média é: 6.75\n"
          ]
        }
      ]
    }
  ]
}